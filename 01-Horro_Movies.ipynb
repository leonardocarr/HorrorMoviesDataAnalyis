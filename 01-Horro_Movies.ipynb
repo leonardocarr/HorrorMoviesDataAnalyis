{
 "cells": [
  {
   "cell_type": "markdown",
   "id": "a91ac9ab",
   "metadata": {},
   "source": [
    "# Bibliotecas "
   ]
  },
  {
   "cell_type": "code",
   "execution_count": null,
   "id": "9d51baec-a9b1-4909-8c7c-8e135807097f",
   "metadata": {},
   "outputs": [],
   "source": [
    "import numpy as np\n",
    "import pandas as pd\n",
    "\n",
    "import seaborn as sns\n",
    "import matplotlib.pyplot as plt\n",
    "import plotly.express as px\n",
    "# import plotly as px\n",
    "from sklearn.preprocessing import StandardScaler"
   ]
  },
  {
   "cell_type": "markdown",
   "id": "d0f21dda",
   "metadata": {},
   "source": [
    "# Bases\n",
    "\n",
    "Gosto sempre de deixar uma base de BackUp po segurança."
   ]
  },
  {
   "cell_type": "code",
   "execution_count": null,
   "id": "27ceb28a",
   "metadata": {},
   "outputs": [],
   "source": [
    "df = pd.read_csv('./Datasets/horror_movies.csv', sep=',')\n",
    "bkp = pd.read_csv('./Datasets/horror_movies.csv', sep=',')\n",
    "\n",
    "df.head()"
   ]
  },
  {
   "cell_type": "markdown",
   "id": "83017df1",
   "metadata": {},
   "source": [
    "# 1. Explorando e entendendo os dados"
   ]
  },
  {
   "cell_type": "markdown",
   "id": "ad14a96e",
   "metadata": {},
   "source": [
    "#### 1.1 Criando uma prévia das colunas 'popularity', 'vote_count', 'vote_average', 'budget' e 'revenue'."
   ]
  },
  {
   "cell_type": "code",
   "execution_count": null,
   "id": "93d3fc9b",
   "metadata": {},
   "outputs": [],
   "source": [
    "# Padronizando os valores númericos para que não aparecam como valor cientifico.\n",
    "\n",
    "# sumario estatistico das colunas.\n",
    "df[['popularity', 'budget', 'revenue']].describe()"
   ]
  },
  {
   "cell_type": "markdown",
   "id": "cc4b1418",
   "metadata": {},
   "source": [
    "#### 1.2 Visualizando a distribuição do orçamento, receita e popularidade."
   ]
  },
  {
   "cell_type": "code",
   "execution_count": null,
   "id": "746c9efe",
   "metadata": {},
   "outputs": [],
   "source": [
    "# Bibliotecas\n",
    "import plotly.graph_objects as go\n",
    "from plotly.subplots import make_subplots\n",
    "\n",
    "# Create a subplot layout\n",
    "fig = make_subplots(rows=3, cols=1, subplot_titles=(\n",
    "    'Distribuição do orçamento', 'Distribuição da receita', 'Distribuição da popularidade'))\n",
    "\n",
    "# Plot distribution for 'budget'\n",
    "fig.add_trace(go.Histogram(\n",
    "    x=df['budget'], name='Orçamento', marker_color='blue', nbinsx=50), row=1, col=1)\n",
    "\n",
    "# Plot distribution for 'revenue'\n",
    "fig.add_trace(go.Histogram(\n",
    "    x=df['revenue'], name='Receita', marker_color='green', nbinsx=50), row=2, col=1)\n",
    "\n",
    "# Plot distribution for 'popularity'\n",
    "fig.add_trace(go.Histogram(\n",
    "    x=df['popularity'], name='Popularidade', marker_color='red', nbinsx=50), row=3, col=1)\n",
    "\n",
    "# Update layout for better appearance\n",
    "fig.update_layout(height=800, width=800,\n",
    "                  title_text=\"Distribuição do orçamento, receita e popularidade\", showlegend=False)\n",
    "fig.update_xaxes(title_text=\"Orçamento\", row=1, col=1)\n",
    "fig.update_xaxes(title_text=\"Receita\", row=2, col=1)\n",
    "fig.update_xaxes(title_text=\"Popularidade\", row=3, col=1)\n",
    "fig.update_yaxes(title_text=\"Quantidade\", row=1, col=1)\n",
    "fig.update_yaxes(title_text=\"Quantidade\", row=2, col=1)\n",
    "fig.update_yaxes(title_text=\"Quantidade\", row=3, col=1)\n",
    "\n",
    "# Display the plots\n",
    "fig.show()"
   ]
  },
  {
   "cell_type": "markdown",
   "id": "debe40e1",
   "metadata": {},
   "source": [
    "# 2. Processando os dados."
   ]
  },
  {
   "cell_type": "markdown",
   "id": "43cc36ee",
   "metadata": {},
   "source": [
    "#### 2.1 Contando os dados faltantes."
   ]
  },
  {
   "cell_type": "code",
   "execution_count": null,
   "id": "216e6e2b",
   "metadata": {},
   "outputs": [],
   "source": [
    "df[['popularity', 'budget', 'revenue']].isnull().sum()"
   ]
  },
  {
   "cell_type": "markdown",
   "id": "c8826fad",
   "metadata": {},
   "source": [
    "#### 2.2 Checando os valores duplicados."
   ]
  },
  {
   "cell_type": "code",
   "execution_count": null,
   "id": "2df0ffd8",
   "metadata": {},
   "outputs": [],
   "source": [
    "df.duplicated().sum()"
   ]
  },
  {
   "cell_type": "markdown",
   "id": "abe00ae6",
   "metadata": {},
   "source": [
    "#### 2.3 Normatizando\n",
    "Este código faz uso da biblioteca Scikit-Learn (sklearn) para realizar o pré-processamento de escala padrão (standardization) em um DataFrame do Pandas."
   ]
  },
  {
   "cell_type": "code",
   "execution_count": null,
   "id": "102166b8",
   "metadata": {},
   "outputs": [],
   "source": [
    "# Normatizar as colunas 'budget', 'revenue', e 'popularity'.\n",
    "scaler = StandardScaler()\n",
    "df[['budget', 'revenue', 'popularity']] = scaler.fit_transform(\n",
    "    df[['budget', 'revenue', 'popularity']])"
   ]
  },
  {
   "cell_type": "markdown",
   "id": "d12098e8",
   "metadata": {},
   "source": [
    "#### 2.4 Convertendo formato datetime."
   ]
  },
  {
   "cell_type": "code",
   "execution_count": null,
   "id": "429896e6",
   "metadata": {},
   "outputs": [],
   "source": [
    "# Convertendo para datetime.\n",
    "df['release_date'] = pd.to_datetime(df['release_date'])\n",
    "\n",
    "# Criando a coluna com o mês de lançamento.\n",
    "df['release_month'] = df['release_date'].dt.month"
   ]
  },
  {
   "cell_type": "markdown",
   "id": "ed0e7eda",
   "metadata": {},
   "source": [
    "## 3. Analise.\n"
   ]
  },
  {
   "cell_type": "markdown",
   "id": "8b5eb2ec",
   "metadata": {},
   "source": [
    "#### 3.1 Verificando a correlação entre a receita e o orçamento da coleção de filmes."
   ]
  },
  {
   "cell_type": "code",
   "execution_count": null,
   "id": "72a59585",
   "metadata": {},
   "outputs": [],
   "source": [
    "correlation_matrix = df[['budget', 'revenue', 'popularity']].corr()\n",
    "fig1 = px.scatter(df, x='budget', y='revenue', color='popularity', title='Relação de receita e orçamento por popularidade')\n",
    "fig1.show()"
   ]
  },
  {
   "cell_type": "markdown",
   "id": "626cd9b3",
   "metadata": {},
   "source": [
    "#### 3.2 Verificando a corelação entre a receita, orçamento e a popularidade."
   ]
  },
  {
   "cell_type": "code",
   "execution_count": null,
   "id": "61a8069a",
   "metadata": {},
   "outputs": [],
   "source": [
    "correlacao = df[['budget', 'revenue', 'popularity']].corr()\n",
    "print(correlacao)"
   ]
  },
  {
   "cell_type": "markdown",
   "id": "c963a1e8",
   "metadata": {},
   "source": [
    "#### 3.3 Filmes mais populares."
   ]
  },
  {
   "cell_type": "code",
   "execution_count": null,
   "id": "9070697e",
   "metadata": {},
   "outputs": [],
   "source": [
    "top_filmes = pd.DataFrame(df.groupby('original_title')[['overview', 'popularity']].sum(\n",
    ").sort_values('popularity', ascending=False).round(2).head(10))\n",
    "\n",
    "fig = px.bar(top_filmes, x=top_filmes.index, y='popularity',\n",
    "             title='Popularidade ', template='seaborn', color=top_filmes.index, text='popularity')\n",
    "fig.show()"
   ]
  }
 ],
 "metadata": {
  "kernelspec": {
   "display_name": "Python 3 (ipykernel)",
   "language": "python",
   "name": "python3"
  },
  "language_info": {
   "codemirror_mode": {
    "name": "ipython",
    "version": 3
   },
   "file_extension": ".py",
   "mimetype": "text/x-python",
   "name": "python",
   "nbconvert_exporter": "python",
   "pygments_lexer": "ipython3",
   "version": "3.11.6"
  }
 },
 "nbformat": 4,
 "nbformat_minor": 5
}
